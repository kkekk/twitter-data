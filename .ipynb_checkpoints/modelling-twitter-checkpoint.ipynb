{
 "cells": [
  {
   "cell_type": "markdown",
   "metadata": {
    "ein.tags": "worksheet-0",
    "slideshow": {
     "slide_type": "-"
    }
   },
   "source": [
    "# Data Science for Twitter"
   ]
  },
  {
   "cell_type": "markdown",
   "metadata": {},
   "source": [
    "See `scraper.py` for how the twitter stream is consumed into the database. Initially I had used the `py2neo` library to interface with the neo4j library, however with the lack of documentation for the latest version and a level of abstraction that is too high, I decided to just use the [official python driver.](https://neo4j.com/docs/api/python-driver/current/) See `object.py` for the (failed) implentation of a scraper in `py2neo`.\n",
    "\n",
    "## Nodes and Relations\n",
    "\n",
    "The Nodes are straightforward: `Tweet` for tweet objects, `User` for User objects. Both have `id` as primary keys, and additional properties are all just additional info saved. I did not include all the additionaly information from Twitter's stream api though.\n",
    "\n",
    "For relations, there are only 4 relations.  \n",
    "`User` POSTED `Tweet`  \n",
    "`Tweet` MENTIONED `User`  \n",
    "`Tweet` RETWEETED `Tweet`  \n",
    "`Tweet` REPLIED `Tweet`  \n",
    "\n",
    "I could have created another Hashtag node and connected to that, but that doesn't really help in answering the questions involved."
   ]
  },
  {
   "cell_type": "markdown",
   "metadata": {},
   "source": [
    "## Main questions  \n",
    "---\n",
    "\n",
    "1. Who is retweeting the most number of tweets?\n",
    "2. What is the distance from the author to the last retweet?\n",
    "3. Who is the most connected user in your dataset?"
   ]
  },
  {
   "cell_type": "code",
   "execution_count": 1,
   "metadata": {},
   "outputs": [
    {
     "name": "stdout",
     "output_type": "stream",
     "text": [
      "Number of respective nodes:\n",
      "{'Tweet': 27334, 'User': 19496}\n"
     ]
    }
   ],
   "source": [
    "# Setup\n",
    "from neo4j import GraphDatabase\n",
    "from collections import Counter\n",
    "from pprint import pprint\n",
    "import pandas as pd\n",
    "\n",
    "uri = \"bolt://localhost:7687\"\n",
    "driver = GraphDatabase.driver(uri, auth=(\"neo4j\", \"1234\"))\n",
    "\n",
    "COUNT = \"CALL apoc.meta.stats() YIELD labels RETURN labels;\"\n",
    "\n",
    "with driver.session() as session:\n",
    "    result = session.run(COUNT)\n",
    "    record = result.single()\n",
    "    print(\"Number of respective nodes:\")\n",
    "    print(record.data()['labels'])\n",
    "\n"
   ]
  },
  {
   "cell_type": "markdown",
   "metadata": {},
   "source": [
    "## 1. Who is retweeting the most number of tweets?\n",
    "\n",
    "To rephrase, this means the user who posts the most number of posts which could be classified as 'retweet'\n",
    "\n",
    "In retrospect, it makes much more sense to construct a cypher query to sort the relations for us."
   ]
  },
  {
   "cell_type": "code",
   "execution_count": 2,
   "metadata": {},
   "outputs": [
    {
     "data": {
      "text/html": [
       "<div>\n",
       "<style scoped>\n",
       "    .dataframe tbody tr th:only-of-type {\n",
       "        vertical-align: middle;\n",
       "    }\n",
       "\n",
       "    .dataframe tbody tr th {\n",
       "        vertical-align: top;\n",
       "    }\n",
       "\n",
       "    .dataframe thead th {\n",
       "        text-align: right;\n",
       "    }\n",
       "</style>\n",
       "<table border=\"1\" class=\"dataframe\">\n",
       "  <thead>\n",
       "    <tr style=\"text-align: right;\">\n",
       "      <th></th>\n",
       "      <th>Retweets</th>\n",
       "      <th>User</th>\n",
       "    </tr>\n",
       "  </thead>\n",
       "  <tbody>\n",
       "    <tr>\n",
       "      <th>0</th>\n",
       "      <td>39</td>\n",
       "      <td>LuisEstradaJr69</td>\n",
       "    </tr>\n",
       "    <tr>\n",
       "      <th>1</th>\n",
       "      <td>37</td>\n",
       "      <td>internet_threat</td>\n",
       "    </tr>\n",
       "    <tr>\n",
       "      <th>2</th>\n",
       "      <td>20</td>\n",
       "      <td>702_5832112</td>\n",
       "    </tr>\n",
       "    <tr>\n",
       "      <th>3</th>\n",
       "      <td>15</td>\n",
       "      <td>AbbyGuguBanda</td>\n",
       "    </tr>\n",
       "    <tr>\n",
       "      <th>4</th>\n",
       "      <td>13</td>\n",
       "      <td>Nettie_Mo</td>\n",
       "    </tr>\n",
       "  </tbody>\n",
       "</table>\n",
       "</div>"
      ],
      "text/plain": [
       "   Retweets             User\n",
       "0        39  LuisEstradaJr69\n",
       "1        37  internet_threat\n",
       "2        20      702_5832112\n",
       "3        15    AbbyGuguBanda\n",
       "4        13        Nettie_Mo"
      ]
     },
     "metadata": {},
     "output_type": "display_data"
    }
   ],
   "source": [
    "Q1_QUERY = \"\"\"MATCH (user)-[p:POSTED]->()-[:RETWEETED]->()\n",
    "WITH user, count(p) as postcount\n",
    "RETURN user.username AS User, postcount as Retweets\n",
    "ORDER by postcount DESC\n",
    "LIMIT 5\"\"\"\n",
    "\n",
    "with driver.session() as session:\n",
    "    result = session.run(Q1_QUERY)\n",
    "    \n",
    "# The transformation way. Does not \n",
    "data = result.data()\n",
    "\n",
    "display(pd.DataFrame(data))\n",
    "\n",
    "\n",
    "    "
   ]
  },
  {
   "cell_type": "markdown",
   "metadata": {},
   "source": [
    "\n",
    "## 2. What is the distance from the author to the last retweet?\n",
    "\n",
    "This confused me for a bit. Which author? The one who retweeted or the one who made the original tweet? What is 'last retweet'? Lets say I leave the author as the one who made the original tweet, and the 'last retweet' being the latest retweet of the specific tweet. Wouldn't the 'distance' always be 2?  \n",
    "\n",
    "author -POSTED> tweet <RETWEETED- retweet \n",
    "\n",
    "Then after a bit of research, I realise directed paths have to be pointing in the same direction. neo4j has two algorithms for this, [shortestPath](https://neo4j.com/docs/cypher-manual/3.5/execution-plans/shortestpath-planning/)  and the [Dijkstra Shortest Path algorithm](https://neo4j.com/docs/graph-algorithms/current/algorithms/shortest-path/). I went with both.  \n"
   ]
  },
  {
   "cell_type": "code",
   "execution_count": 3,
   "metadata": {},
   "outputs": [
    {
     "name": "stdout",
     "output_type": "stream",
     "text": [
      "{'writeMillis': 0, 'loadMillis': 33, 'nodeCount': 0, 'totalCost': -1.0}\n"
     ]
    }
   ],
   "source": [
    "dijk_query = \"\"\"MATCH (:User)-[:POSTED]->(rt:Tweet)-[:RETWEETED]->(:Tweet)<-[:POSTED]-(author:User)\n",
    "WITH rt, author\n",
    "ORDER by rt.created desc limit 1\n",
    "CALL algo.shortestPath(author, rt, null,{direction:'OUTGOING'})\n",
    "YIELD writeMillis,loadMillis,nodeCount, totalCost\n",
    "RETURN writeMillis,loadMillis,nodeCount, totalCost\"\"\"\n",
    "\n",
    "with driver.session() as session:\n",
    "    result = session.run(dijk_query)\n",
    "    data = result.data()\n",
    "print(data[0])"
   ]
  },
  {
   "cell_type": "markdown",
   "metadata": {},
   "source": [
    "Uh oh, looks like there isn't any shortest path. Furthermore, replacing (direction: 'OUTGOING') with (direction: 'OUTGOING') treats the relationships as undirected would result in the expected distance cost of 2."
   ]
  },
  {
   "cell_type": "code",
   "execution_count": 4,
   "metadata": {},
   "outputs": [
    {
     "name": "stdout",
     "output_type": "stream",
     "text": [
      "shortest bidirectional distance: 2\n"
     ]
    }
   ],
   "source": [
    "shortest_query = \"\"\"MATCH (:User)-[:POSTED]->(rt:Tweet)-[:RETWEETED]->(:Tweet)<-[:POSTED]-(author:User)\n",
    "WITH rt, author\n",
    "ORDER by rt.created desc limit 1\n",
    "MATCH p = shortestPath((rt)-[*]-(author))\n",
    "RETURN p, length(p)\"\"\"\n",
    "\n",
    "with driver.session() as session:\n",
    "    result = session.run(shortest_query)\n",
    "    data = result.data()\n",
    "print(\"shortest bidirectional distance:\", data[0]['length(p)'])"
   ]
  },
  {
   "cell_type": "markdown",
   "metadata": {},
   "source": [
    "`shortestPath` does not allow directional distance. It appears that there is no shortest directed path, or the bidirectional path cost is 2. Most likely though:  \n",
    "* I wrote the query wrong\n",
    "* I did not store data in a way that could connect the retweet and the author\n",
    "* I misunderstood the question"
   ]
  },
  {
   "cell_type": "markdown",
   "metadata": {},
   "source": [
    "## 3. Who is the most connected user in your dataset?\n",
    "\n",
    "This required a bit of googling here and there. Eventually, I found this http://nicolewhite.github.io/neo4j-jupyter/twitter.html which had both 'betweenness' and 'closeness' algorithms, using the `python-igraph` lib\n",
    "\n",
    "From that source:  \n",
    "\n",
    "$betweenness(v) = \\sum_{s, t \\in V} \\frac{\\sigma_{st}(v)}{\\sigma_{st}}$\n",
    "\n",
    "The betweenness centrality of a node $v$ is the number of shortest paths that pass through $v$, $\\sigma_{st}(v)$,  divided by the total number of shortest paths, $\\sigma_{st}$.\n",
    "\n",
    "$closeness(v) = \\frac{1}{\\sum_{x} d(v, x)}$\n",
    "\n",
    "The closeness centrality is the reciprocal of a node's farness, or sum of its shortest path distances from all other nodes in the graph.\n",
    "\n",
    "I have also included PageRank's algorithm to test.\n",
    "\n"
   ]
  },
  {
   "cell_type": "markdown",
   "metadata": {},
   "source": [
    "## Note\n",
    "Before these algorithms are run, we have to include more relationships not captured in the scraper. Indirect relationships ((u:User)-[:POSTED]->(:Tweet)-[:MENTIONED]-(u2:User)) have to be converted to direct, KNOWS relationships. Else, the output from the algorithms ends up without any meaninful distinction between users (i.e centrality all 0, pagerank same value)"
   ]
  },
  {
   "cell_type": "code",
   "execution_count": 5,
   "metadata": {},
   "outputs": [
    {
     "name": "stdout",
     "output_type": "stream",
     "text": [
      "[{'count(p)': 10772}]\n"
     ]
    }
   ],
   "source": [
    "# Add a basic mention direct relationship. All replies will mention the user in the tweet object, so this covers that\n",
    "reply = \"\"\"MATCH (u:User)-[:POSTED]->(:Tweet)-[:MENTIONED]-(u2:User)\n",
    "MERGE p = (u)-[:KNOWS]->(u2)\n",
    "RETURN count(p)\"\"\"\n",
    "with driver.session() as session:\n",
    "    result = session.run(reply)\n",
    "    data = result.data()\n",
    "print(data)"
   ]
  },
  {
   "cell_type": "code",
   "execution_count": 6,
   "metadata": {},
   "outputs": [
    {
     "name": "stdout",
     "output_type": "stream",
     "text": [
      "[{'count(p)': 3022}]\n"
     ]
    }
   ],
   "source": [
    "# Add a direct relaionship between users who retweeted the other.\n",
    "retweet = \"\"\"MATCH (u:User)-[:POSTED]->(:Tweet)-[:RETWEETED]->(:Tweet)<-[:POSTED]-(u2:User)\n",
    "MERGE p = (u)-[:KNOWS]->(u2)\n",
    "RETURN count(p)\"\"\"\n",
    "with driver.session() as session:\n",
    "    result = session.run(retweet)\n",
    "    data = result.data()\n",
    "print(data)"
   ]
  },
  {
   "cell_type": "code",
   "execution_count": 7,
   "metadata": {},
   "outputs": [],
   "source": [
    "# Finally, remove self referential relationships\n",
    "delete = \"\"\"MATCH (u:User)-[k:KNOWS]-(u)\n",
    "DELETE k\"\"\"\n",
    "with driver.session() as session:\n",
    "    result = session.run(delete)\n"
   ]
  },
  {
   "cell_type": "markdown",
   "metadata": {},
   "source": [
    "`PageRank` algorithm."
   ]
  },
  {
   "cell_type": "code",
   "execution_count": 8,
   "metadata": {},
   "outputs": [
    {
     "data": {
      "text/html": [
       "<div>\n",
       "<style scoped>\n",
       "    .dataframe tbody tr th:only-of-type {\n",
       "        vertical-align: middle;\n",
       "    }\n",
       "\n",
       "    .dataframe tbody tr th {\n",
       "        vertical-align: top;\n",
       "    }\n",
       "\n",
       "    .dataframe thead th {\n",
       "        text-align: right;\n",
       "    }\n",
       "</style>\n",
       "<table border=\"1\" class=\"dataframe\">\n",
       "  <thead>\n",
       "    <tr style=\"text-align: right;\">\n",
       "      <th></th>\n",
       "      <th>page</th>\n",
       "      <th>score</th>\n",
       "    </tr>\n",
       "  </thead>\n",
       "  <tbody>\n",
       "    <tr>\n",
       "      <th>0</th>\n",
       "      <td>realDonaldTrump</td>\n",
       "      <td>32.697384</td>\n",
       "    </tr>\n",
       "    <tr>\n",
       "      <th>1</th>\n",
       "      <td>BTS_twt</td>\n",
       "      <td>27.138027</td>\n",
       "    </tr>\n",
       "    <tr>\n",
       "      <th>2</th>\n",
       "      <td>Lilcurin</td>\n",
       "      <td>15.959499</td>\n",
       "    </tr>\n",
       "    <tr>\n",
       "      <th>3</th>\n",
       "      <td>AnnaBordelon84</td>\n",
       "      <td>15.835620</td>\n",
       "    </tr>\n",
       "    <tr>\n",
       "      <th>4</th>\n",
       "      <td>IlhanMN</td>\n",
       "      <td>15.179674</td>\n",
       "    </tr>\n",
       "  </tbody>\n",
       "</table>\n",
       "</div>"
      ],
      "text/plain": [
       "              page      score\n",
       "0  realDonaldTrump  32.697384\n",
       "1          BTS_twt  27.138027\n",
       "2         Lilcurin  15.959499\n",
       "3   AnnaBordelon84  15.835620\n",
       "4          IlhanMN  15.179674"
      ]
     },
     "metadata": {},
     "output_type": "display_data"
    }
   ],
   "source": [
    "pagerank_query = \"\"\"CALL algo.pageRank.stream('User', null, {direction:'BOTH'})\n",
    "YIELD nodeId, score\n",
    "RETURN algo.asNode(nodeId).username AS page,score\n",
    "ORDER BY score DESC limit 5\"\"\"\n",
    "\n",
    "with driver.session() as session:\n",
    "    result = session.run(pagerank_query)\n",
    "    data = result.data()\n",
    "display(pd.DataFrame(data))"
   ]
  },
  {
   "cell_type": "code",
   "execution_count": 9,
   "metadata": {},
   "outputs": [
    {
     "data": {
      "text/html": [
       "<div>\n",
       "<style scoped>\n",
       "    .dataframe tbody tr th:only-of-type {\n",
       "        vertical-align: middle;\n",
       "    }\n",
       "\n",
       "    .dataframe tbody tr th {\n",
       "        vertical-align: top;\n",
       "    }\n",
       "\n",
       "    .dataframe thead th {\n",
       "        text-align: right;\n",
       "    }\n",
       "</style>\n",
       "<table border=\"1\" class=\"dataframe\">\n",
       "  <thead>\n",
       "    <tr style=\"text-align: right;\">\n",
       "      <th></th>\n",
       "      <th>centrality</th>\n",
       "      <th>user</th>\n",
       "    </tr>\n",
       "  </thead>\n",
       "  <tbody>\n",
       "    <tr>\n",
       "      <th>0</th>\n",
       "      <td>2.153260e+06</td>\n",
       "      <td>realDonaldTrump</td>\n",
       "    </tr>\n",
       "    <tr>\n",
       "      <th>1</th>\n",
       "      <td>1.109247e+06</td>\n",
       "      <td>IlhanMN</td>\n",
       "    </tr>\n",
       "    <tr>\n",
       "      <th>2</th>\n",
       "      <td>9.095224e+05</td>\n",
       "      <td>theestallion</td>\n",
       "    </tr>\n",
       "    <tr>\n",
       "      <th>3</th>\n",
       "      <td>8.755631e+05</td>\n",
       "      <td>BTS_twt</td>\n",
       "    </tr>\n",
       "    <tr>\n",
       "      <th>4</th>\n",
       "      <td>6.969775e+05</td>\n",
       "      <td>KidCudi</td>\n",
       "    </tr>\n",
       "  </tbody>\n",
       "</table>\n",
       "</div>"
      ],
      "text/plain": [
       "     centrality             user\n",
       "0  2.153260e+06  realDonaldTrump\n",
       "1  1.109247e+06          IlhanMN\n",
       "2  9.095224e+05     theestallion\n",
       "3  8.755631e+05          BTS_twt\n",
       "4  6.969775e+05          KidCudi"
      ]
     },
     "metadata": {},
     "output_type": "display_data"
    }
   ],
   "source": [
    "betweeness_query = \"\"\"CALL algo.betweenness.stream('User', null, {direction: 'both'})\n",
    "YIELD nodeId, centrality\n",
    "MATCH (user) WHERE id(user) = nodeId\n",
    "RETURN user.username AS user,centrality\n",
    "ORDER BY centrality DESC\n",
    "LIMIT 5\"\"\"\n",
    "\n",
    "with driver.session() as session:\n",
    "    result = session.run(betweeness_query)\n",
    "    data = result.data()\n",
    "display(pd.DataFrame(data))"
   ]
  },
  {
   "cell_type": "code",
   "execution_count": 10,
   "metadata": {},
   "outputs": [
    {
     "data": {
      "text/html": [
       "<div>\n",
       "<style scoped>\n",
       "    .dataframe tbody tr th:only-of-type {\n",
       "        vertical-align: middle;\n",
       "    }\n",
       "\n",
       "    .dataframe tbody tr th {\n",
       "        vertical-align: top;\n",
       "    }\n",
       "\n",
       "    .dataframe thead th {\n",
       "        text-align: right;\n",
       "    }\n",
       "</style>\n",
       "<table border=\"1\" class=\"dataframe\">\n",
       "  <thead>\n",
       "    <tr style=\"text-align: right;\">\n",
       "      <th></th>\n",
       "      <th>centrality</th>\n",
       "      <th>user</th>\n",
       "    </tr>\n",
       "  </thead>\n",
       "  <tbody>\n",
       "    <tr>\n",
       "      <th>0</th>\n",
       "      <td>1.0</td>\n",
       "      <td>fyoosha</td>\n",
       "    </tr>\n",
       "    <tr>\n",
       "      <th>1</th>\n",
       "      <td>1.0</td>\n",
       "      <td>ElChibo</td>\n",
       "    </tr>\n",
       "    <tr>\n",
       "      <th>2</th>\n",
       "      <td>1.0</td>\n",
       "      <td>_ShayShay2X</td>\n",
       "    </tr>\n",
       "    <tr>\n",
       "      <th>3</th>\n",
       "      <td>1.0</td>\n",
       "      <td>singledadissad</td>\n",
       "    </tr>\n",
       "    <tr>\n",
       "      <th>4</th>\n",
       "      <td>1.0</td>\n",
       "      <td>asiaxcheyanne</td>\n",
       "    </tr>\n",
       "  </tbody>\n",
       "</table>\n",
       "</div>"
      ],
      "text/plain": [
       "   centrality            user\n",
       "0         1.0         fyoosha\n",
       "1         1.0         ElChibo\n",
       "2         1.0     _ShayShay2X\n",
       "3         1.0  singledadissad\n",
       "4         1.0   asiaxcheyanne"
      ]
     },
     "metadata": {},
     "output_type": "display_data"
    }
   ],
   "source": [
    "closeness_query = \"\"\"CALL algo.closeness.stream('User')\n",
    "YIELD nodeId, centrality\n",
    "MATCH (user) WHERE id(user) = nodeId\n",
    "RETURN user.username AS user, centrality\n",
    "ORDER BY centrality DESC\n",
    "LIMIT 5\"\"\"\n",
    "with driver.session() as session:\n",
    "    result = session.run(closeness_query)\n",
    "    data = result.data()\n",
    "display(pd.DataFrame(data))"
   ]
  },
  {
   "cell_type": "markdown",
   "metadata": {},
   "source": [
    "From [Neo4j docs,](https://neo4j.com/docs/graph-algorithms/current/algorithms/closeness-centrality/) Academically, closeness centrality works best on connected graphs. If we use the original formula on an unconnected graph, we can end up with an infinite distance between two nodes in separate connected components. This means that we’ll end up with an infinite closeness centrality score when we sum up all the distances from that node. "
   ]
  },
  {
   "cell_type": "code",
   "execution_count": null,
   "metadata": {},
   "outputs": [],
   "source": []
  }
 ],
 "metadata": {
  "kernelspec": {
   "display_name": "Python 3",
   "language": "python",
   "name": "python3"
  },
  "language_info": {
   "codemirror_mode": {
    "name": "ipython",
    "version": 3
   },
   "file_extension": ".py",
   "mimetype": "text/x-python",
   "name": "python",
   "nbconvert_exporter": "python",
   "pygments_lexer": "ipython3",
   "version": "3.6.6"
  },
  "name": "modelling-twitter.ipynb"
 },
 "nbformat": 4,
 "nbformat_minor": 2
}
