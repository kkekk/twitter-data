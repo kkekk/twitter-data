{
 "cells": [
  {
   "cell_type": "markdown",
   "metadata": {
    "ein.tags": "worksheet-0",
    "slideshow": {
     "slide_type": "-"
    }
   },
   "source": [
    "# Data Science for Twitter"
   ]
  },
  {
   "cell_type": "markdown",
   "metadata": {},
   "source": [
    "See `scraper.py` for how the twitter stream is consumed into the database. Initially I had used the `py2neo` library to interface with the neo4j library, however with the lack of documentation for the latest version and a level of abstraction that is too high, I decided to just use the [official python driver.](https://neo4j.com/docs/api/python-driver/current/) See `object.py` for the (failed) implentation of a scraper in `py2neo`.\n",
    "\n",
    "## Nodes and Relations\n",
    "\n",
    "The Nodes are straightforward: `Tweet` for tweet objects, `User` for User objects. Both have `id` as primary keys, and additional properties are all just additional info saved. I did not include all the additionaly information from Twitter's stream api though.\n",
    "\n",
    "For relations, there are only 4 relations.  \n",
    "`User` POSTED `Tweet`  \n",
    "`Tweet` MENTIONED `User`  \n",
    "`Tweet` RETWEETED `Tweet`  \n",
    "`Tweet` REPLIED `Tweet`  \n",
    "\n",
    "I could have created another Hashtag node and connected to that, but that doesn't really help in answering the questions involved."
   ]
  },
  {
   "cell_type": "markdown",
   "metadata": {},
   "source": [
    "## Main questions  \n",
    "---\n",
    "\n",
    "1. Who is retweeting the most number of tweets?\n",
    "2. What is the distance from the author to the last retweet?\n",
    "3. Who is the most connected user in your dataset?"
   ]
  },
  {
   "cell_type": "code",
   "execution_count": 1,
   "metadata": {},
   "outputs": [
    {
     "name": "stdout",
     "output_type": "stream",
     "text": [
      "Number of respective nodes:\n",
      "{'Tweet': 152877, 'User': 108001}\n"
     ]
    }
   ],
   "source": [
    "# Setup\n",
    "from neo4j import GraphDatabase\n",
    "from collections import Counter\n",
    "from pprint import pprint\n",
    "import pandas as pd\n",
    "\n",
    "uri = \"bolt://localhost:7687\"\n",
    "driver = GraphDatabase.driver(uri, auth=(\"neo4j\", \"1234\"))\n",
    "\n",
    "COUNT = \"CALL apoc.meta.stats() YIELD labels RETURN labels;\"\n",
    "\n",
    "with driver.session() as session:\n",
    "    result = session.run(COUNT)\n",
    "    record = result.single()\n",
    "    print(\"Number of respective nodes:\")\n",
    "    print(record.data()['labels'])\n",
    "\n"
   ]
  },
  {
   "cell_type": "markdown",
   "metadata": {},
   "source": [
    "## 1. Who is retweeting the most number of tweets?\n",
    "\n",
    "To rephrase, this means the user who posts the most number of posts which could be classified as 'retweet'"
   ]
  },
  {
   "cell_type": "code",
   "execution_count": 2,
   "metadata": {},
   "outputs": [
    {
     "data": {
      "text/html": [
       "<div>\n",
       "<style scoped>\n",
       "    .dataframe tbody tr th:only-of-type {\n",
       "        vertical-align: middle;\n",
       "    }\n",
       "\n",
       "    .dataframe tbody tr th {\n",
       "        vertical-align: top;\n",
       "    }\n",
       "\n",
       "    .dataframe thead th {\n",
       "        text-align: right;\n",
       "    }\n",
       "</style>\n",
       "<table border=\"1\" class=\"dataframe\">\n",
       "  <thead>\n",
       "    <tr style=\"text-align: right;\">\n",
       "      <th></th>\n",
       "      <th>User</th>\n",
       "      <th>Retweets</th>\n",
       "    </tr>\n",
       "  </thead>\n",
       "  <tbody>\n",
       "    <tr>\n",
       "      <th>0</th>\n",
       "      <td>Sooner1944</td>\n",
       "      <td>64</td>\n",
       "    </tr>\n",
       "    <tr>\n",
       "      <th>1</th>\n",
       "      <td>onmymindmarais</td>\n",
       "      <td>54</td>\n",
       "    </tr>\n",
       "    <tr>\n",
       "      <th>2</th>\n",
       "      <td>SallyMoen2</td>\n",
       "      <td>42</td>\n",
       "    </tr>\n",
       "    <tr>\n",
       "      <th>3</th>\n",
       "      <td>BLKFOXGNG</td>\n",
       "      <td>38</td>\n",
       "    </tr>\n",
       "    <tr>\n",
       "      <th>4</th>\n",
       "      <td>allohhhh</td>\n",
       "      <td>32</td>\n",
       "    </tr>\n",
       "  </tbody>\n",
       "</table>\n",
       "</div>"
      ],
      "text/plain": [
       "             User  Retweets\n",
       "0      Sooner1944        64\n",
       "1  onmymindmarais        54\n",
       "2      SallyMoen2        42\n",
       "3       BLKFOXGNG        38\n",
       "4        allohhhh        32"
      ]
     },
     "metadata": {},
     "output_type": "display_data"
    }
   ],
   "source": [
    "Q1_QUERY = \"MATCH (user)-[:POSTED]->()-[:RETWEETED]->() RETURN user.id AS id, user.username AS username\"\n",
    "\n",
    "with driver.session() as session:\n",
    "    result = session.run(Q1_QUERY)\n",
    "    \n",
    "data = result.data()\n",
    "# Get the top 5 user_ids with most retweets\n",
    "top_5 = Counter([dicts['id'] for dicts in data]).most_common(5)\n",
    "top_5 = [([d['username'] for d in data if d['id'] == tup[0]][0], tup[1]) for tup in top_5]\n",
    "display(pd.DataFrame(top_5, columns=['User', 'Retweets']))\n",
    "\n",
    "\n",
    "    "
   ]
  },
  {
   "cell_type": "markdown",
   "metadata": {},
   "source": [
    "## 2. What is the distance from the author to the last retweet?\n",
    "\n",
    "This confused me for a bit. Which author? The one who retweeted or the one who made the original tweet? What is 'last retweet'? Lets say I leave the author as the one who made the original tweet, and the 'last retweet' being the latest retweet of the specific tweet. Wouldn't the 'distance' always be 2?  \n",
    "\n",
    "author -POSTED> tweet <RETWEETED- retweet \n",
    "\n",
    "Then after a bit of research, I realise directed paths have to be pointing in the same direction. neo4j has two algorithms for this, [shortestPath](https://neo4j.com/docs/cypher-manual/3.5/execution-plans/shortestpath-planning/)  and the [Dijkstra Shortest Path algorithm](https://neo4j.com/docs/graph-algorithms/current/algorithms/shortest-path/). I went with both.  \n"
   ]
  },
  {
   "cell_type": "code",
   "execution_count": 3,
   "metadata": {},
   "outputs": [
    {
     "name": "stdout",
     "output_type": "stream",
     "text": [
      "{'writeMillis': 0, 'loadMillis': 141, 'nodeCount': 0, 'totalCost': -1.0}\n"
     ]
    }
   ],
   "source": [
    "dijk_query = \"\"\"MATCH (:User)-[:POSTED]->(rt:Tweet)-[:RETWEETED]->(:Tweet)<-[:POSTED]-(author:User)\n",
    "WITH rt, author\n",
    "ORDER by rt.created desc limit 1\n",
    "CALL algo.shortestPath(author, rt, null,{direction:'OUTGOING'})\n",
    "YIELD writeMillis,loadMillis,nodeCount, totalCost\n",
    "RETURN writeMillis,loadMillis,nodeCount, totalCost\"\"\"\n",
    "\n",
    "with driver.session() as session:\n",
    "    result = session.run(dijk_query)\n",
    "    data = result.data()\n",
    "print(data[0])"
   ]
  },
  {
   "cell_type": "markdown",
   "metadata": {},
   "source": [
    "Uh oh, looks like there isn't any shortest path. Furthermore, replacing (direction: 'OUTGOING') with (direction: 'OUTGOING') treats the relationships as undirected would result in the expected distance cost of 2."
   ]
  },
  {
   "cell_type": "code",
   "execution_count": 4,
   "metadata": {},
   "outputs": [
    {
     "name": "stdout",
     "output_type": "stream",
     "text": [
      "shortest bidirectional distance: 2\n"
     ]
    }
   ],
   "source": [
    "shortest_query = \"\"\"MATCH (:User)-[:POSTED]->(rt:Tweet)-[:RETWEETED]->(:Tweet)<-[:POSTED]-(author:User)\n",
    "WITH rt, author\n",
    "ORDER by rt.created desc limit 1\n",
    "MATCH p = shortestPath((rt)-[*]-(author))\n",
    "RETURN p, length(p)\"\"\"\n",
    "\n",
    "with driver.session() as session:\n",
    "    result = session.run(shortest_query)\n",
    "    data = result.data()\n",
    "print(\"shortest bidirectional distance:\", data[0]['length(p)'])"
   ]
  },
  {
   "cell_type": "markdown",
   "metadata": {},
   "source": [
    "`shortestPath` does not allow directional distance. It appears that there is no shortest directed path, or the bidirectional path cost is 2. Most likely though:  \n",
    "* I wrote the query wrong\n",
    "* I did not store data in a way that could connect the retweet and the author\n",
    "* I misunderstood the question"
   ]
  },
  {
   "cell_type": "markdown",
   "metadata": {},
   "source": [
    "## 3. Who is the most connected user in your dataset?\n",
    "\n",
    "This required a bit of googling here and there. Eventually, I found this http://nicolewhite.github.io/neo4j-jupyter/twitter.html which had both 'betweenness' and 'closeness' algorithms, using the `python-igraph` lib\n",
    "\n",
    "From that source:  \n",
    "\n",
    "$betweenness(v) = \\sum_{s, t \\in V} \\frac{\\sigma_{st}(v)}{\\sigma_{st}}$\n",
    "\n",
    "The betweenness centrality of a node $v$ is the number of shortest paths that pass through $v$, $\\sigma_{st}(v)$,  divided by the total number of shortest paths, $\\sigma_{st}$.\n",
    "\n",
    "$closeness(v) = \\frac{1}{\\sum_{x} d(v, x)}$\n",
    "\n",
    "The closeness centrality is the reciprocal of a node's farness, or sum of its shortest path distances from all other nodes in the graph."
   ]
  },
  {
   "cell_type": "code",
   "execution_count": 5,
   "metadata": {},
   "outputs": [
    {
     "ename": "KeyboardInterrupt",
     "evalue": "",
     "output_type": "error",
     "traceback": [
      "\u001b[0;31m---------------------------------------------------------------------------\u001b[0m",
      "\u001b[0;31mKeyboardInterrupt\u001b[0m                         Traceback (most recent call last)",
      "\u001b[0;32m<ipython-input-5-3f21d8b26904>\u001b[0m in \u001b[0;36m<module>\u001b[0;34m\u001b[0m\n\u001b[1;32m     12\u001b[0m \u001b[0mig\u001b[0m \u001b[0;34m=\u001b[0m \u001b[0mIGraph\u001b[0m\u001b[0;34m.\u001b[0m\u001b[0mTupleList\u001b[0m\u001b[0;34m(\u001b[0m\u001b[0mdata\u001b[0m\u001b[0;34m,\u001b[0m \u001b[0mweights\u001b[0m\u001b[0;34m=\u001b[0m\u001b[0;32mTrue\u001b[0m\u001b[0;34m)\u001b[0m\u001b[0;34m\u001b[0m\u001b[0m\n\u001b[1;32m     13\u001b[0m \u001b[0;34m\u001b[0m\u001b[0m\n\u001b[0;32m---> 14\u001b[0;31m \u001b[0mbetween\u001b[0m \u001b[0;34m=\u001b[0m \u001b[0;34m[\u001b[0m\u001b[0;34m(\u001b[0m\u001b[0mnode\u001b[0m\u001b[0;34m[\u001b[0m\u001b[0;34m\"name\"\u001b[0m\u001b[0;34m]\u001b[0m\u001b[0;34m,\u001b[0m \u001b[0mnode\u001b[0m\u001b[0;34m.\u001b[0m\u001b[0mbetweenness\u001b[0m\u001b[0;34m(\u001b[0m\u001b[0;34m)\u001b[0m\u001b[0;34m)\u001b[0m \u001b[0;32mfor\u001b[0m \u001b[0mnode\u001b[0m \u001b[0;32min\u001b[0m \u001b[0mig\u001b[0m\u001b[0;34m.\u001b[0m\u001b[0mvs\u001b[0m\u001b[0;34m]\u001b[0m\u001b[0;34m\u001b[0m\u001b[0m\n\u001b[0m\u001b[1;32m     15\u001b[0m \u001b[0mtop_between\u001b[0m \u001b[0;34m=\u001b[0m \u001b[0msorted\u001b[0m\u001b[0;34m(\u001b[0m\u001b[0mbetween\u001b[0m\u001b[0;34m,\u001b[0m \u001b[0mkey\u001b[0m\u001b[0;34m=\u001b[0m\u001b[0;32mlambda\u001b[0m \u001b[0mx\u001b[0m\u001b[0;34m:\u001b[0m \u001b[0mx\u001b[0m\u001b[0;34m[\u001b[0m\u001b[0;36m1\u001b[0m\u001b[0;34m]\u001b[0m\u001b[0;34m,\u001b[0m \u001b[0mreverse\u001b[0m\u001b[0;34m=\u001b[0m\u001b[0;32mTrue\u001b[0m\u001b[0;34m)\u001b[0m\u001b[0;34m\u001b[0m\u001b[0m\n\u001b[1;32m     16\u001b[0m \u001b[0;34m\u001b[0m\u001b[0m\n",
      "\u001b[0;32m<ipython-input-5-3f21d8b26904>\u001b[0m in \u001b[0;36m<listcomp>\u001b[0;34m(.0)\u001b[0m\n\u001b[1;32m     12\u001b[0m \u001b[0mig\u001b[0m \u001b[0;34m=\u001b[0m \u001b[0mIGraph\u001b[0m\u001b[0;34m.\u001b[0m\u001b[0mTupleList\u001b[0m\u001b[0;34m(\u001b[0m\u001b[0mdata\u001b[0m\u001b[0;34m,\u001b[0m \u001b[0mweights\u001b[0m\u001b[0;34m=\u001b[0m\u001b[0;32mTrue\u001b[0m\u001b[0;34m)\u001b[0m\u001b[0;34m\u001b[0m\u001b[0m\n\u001b[1;32m     13\u001b[0m \u001b[0;34m\u001b[0m\u001b[0m\n\u001b[0;32m---> 14\u001b[0;31m \u001b[0mbetween\u001b[0m \u001b[0;34m=\u001b[0m \u001b[0;34m[\u001b[0m\u001b[0;34m(\u001b[0m\u001b[0mnode\u001b[0m\u001b[0;34m[\u001b[0m\u001b[0;34m\"name\"\u001b[0m\u001b[0;34m]\u001b[0m\u001b[0;34m,\u001b[0m \u001b[0mnode\u001b[0m\u001b[0;34m.\u001b[0m\u001b[0mbetweenness\u001b[0m\u001b[0;34m(\u001b[0m\u001b[0;34m)\u001b[0m\u001b[0;34m)\u001b[0m \u001b[0;32mfor\u001b[0m \u001b[0mnode\u001b[0m \u001b[0;32min\u001b[0m \u001b[0mig\u001b[0m\u001b[0;34m.\u001b[0m\u001b[0mvs\u001b[0m\u001b[0;34m]\u001b[0m\u001b[0;34m\u001b[0m\u001b[0m\n\u001b[0m\u001b[1;32m     15\u001b[0m \u001b[0mtop_between\u001b[0m \u001b[0;34m=\u001b[0m \u001b[0msorted\u001b[0m\u001b[0;34m(\u001b[0m\u001b[0mbetween\u001b[0m\u001b[0;34m,\u001b[0m \u001b[0mkey\u001b[0m\u001b[0;34m=\u001b[0m\u001b[0;32mlambda\u001b[0m \u001b[0mx\u001b[0m\u001b[0;34m:\u001b[0m \u001b[0mx\u001b[0m\u001b[0;34m[\u001b[0m\u001b[0;36m1\u001b[0m\u001b[0;34m]\u001b[0m\u001b[0;34m,\u001b[0m \u001b[0mreverse\u001b[0m\u001b[0;34m=\u001b[0m\u001b[0;32mTrue\u001b[0m\u001b[0;34m)\u001b[0m\u001b[0;34m\u001b[0m\u001b[0m\n\u001b[1;32m     16\u001b[0m \u001b[0;34m\u001b[0m\u001b[0m\n",
      "\u001b[0;31mKeyboardInterrupt\u001b[0m: "
     ]
    }
   ],
   "source": [
    "from igraph import Graph as IGraph\n",
    "from py2neo import Graph\n",
    "\n",
    "q3_query = \"\"\"\n",
    "MATCH (user1:User)-[:POSTED]->(retweet:Tweet)-[:RETWEETED]->(tweet:Tweet),\n",
    "      (user2:User)-[:POSTED]->(tweet)\n",
    "RETURN user1.username, user2.username, count(*) AS weight\n",
    "\"\"\"\n",
    "graph = Graph(password='1234')\n",
    "data = graph.run(q3_query)\n",
    "    \n",
    "ig = IGraph.TupleList(data, weights=True)\n",
    "\n",
    "between = [(node[\"name\"], node.betweenness()) for node in ig.vs]\n",
    "top_between = sorted(between, key=lambda x: x[1], reverse=True)\n",
    "\n",
    "close = [(node[\"name\"], node.closeness()) for node in ig.vs]\n",
    "top_close = sorted(close, key=lambda x: x[1], reverse=True)\n",
    "\n"
   ]
  },
  {
   "cell_type": "code",
   "execution_count": null,
   "metadata": {},
   "outputs": [],
   "source": [
    "print(top_between[:5], top_close[:5])"
   ]
  },
  {
   "cell_type": "markdown",
   "metadata": {},
   "source": [
    "While the above algorithm takes forever to compute on my lenovo on a somewhat small dataset, I attempt to use neo4j's included `PageRank` algorithm"
   ]
  },
  {
   "cell_type": "code",
   "execution_count": 6,
   "metadata": {},
   "outputs": [
    {
     "ename": "NameError",
     "evalue": "name 'pprint' is not defined",
     "output_type": "error",
     "traceback": [
      "\u001b[0;31m---------------------------------------------------------------------------\u001b[0m",
      "\u001b[0;31mNameError\u001b[0m                                 Traceback (most recent call last)",
      "\u001b[0;32m<ipython-input-6-862695d6ee21>\u001b[0m in \u001b[0;36m<module>\u001b[0;34m\u001b[0m\n\u001b[1;32m      7\u001b[0m     \u001b[0mresult\u001b[0m \u001b[0;34m=\u001b[0m \u001b[0msession\u001b[0m\u001b[0;34m.\u001b[0m\u001b[0mrun\u001b[0m\u001b[0;34m(\u001b[0m\u001b[0mpagerank_query\u001b[0m\u001b[0;34m)\u001b[0m\u001b[0;34m\u001b[0m\u001b[0m\n\u001b[1;32m      8\u001b[0m     \u001b[0mdata\u001b[0m \u001b[0;34m=\u001b[0m \u001b[0mresult\u001b[0m\u001b[0;34m.\u001b[0m\u001b[0mdata\u001b[0m\u001b[0;34m(\u001b[0m\u001b[0;34m)\u001b[0m\u001b[0;34m\u001b[0m\u001b[0m\n\u001b[0;32m----> 9\u001b[0;31m \u001b[0mpprint\u001b[0m\u001b[0;34m(\u001b[0m\u001b[0mdata\u001b[0m\u001b[0;34m)\u001b[0m\u001b[0;34m\u001b[0m\u001b[0m\n\u001b[0m",
      "\u001b[0;31mNameError\u001b[0m: name 'pprint' is not defined"
     ]
    }
   ],
   "source": [
    "pagerank_query = \"\"\"CALL algo.pageRank.stream('User', null, {direction:'BOTH'})\n",
    "YIELD nodeId, score\n",
    "RETURN algo.asNode(nodeId).username AS page,score\n",
    "ORDER BY score DESC limit 5\"\"\"\n",
    "\n",
    "with driver.session() as session:\n",
    "    result = session.run(pagerank_query)\n",
    "    data = result.data()\n",
    "pprint(data)"
   ]
  },
  {
   "cell_type": "code",
   "execution_count": null,
   "metadata": {},
   "outputs": [],
   "source": []
  }
 ],
 "metadata": {
  "kernelspec": {
   "display_name": "Python 3",
   "language": "python",
   "name": "python3"
  },
  "language_info": {
   "codemirror_mode": {
    "name": "ipython",
    "version": 3
   },
   "file_extension": ".py",
   "mimetype": "text/x-python",
   "name": "python",
   "nbconvert_exporter": "python",
   "pygments_lexer": "ipython3",
   "version": "3.6.6"
  },
  "name": "modelling-twitter.ipynb"
 },
 "nbformat": 4,
 "nbformat_minor": 2
}
